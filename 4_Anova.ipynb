{
 "cells": [
  {
   "cell_type": "markdown",
   "metadata": {},
   "source": [
    "# ANOVA\n",
    "ANOVA is a statistical test that stands for analysis of variance.\n",
    "\n",
    "ANOVA was developed by statistician and evolutionary biologist Ronald Fisher. The idea behind ANOVA is to compare different groups of samples to determine whether there is a significant difference between the groups.\n",
    "\n",
    "ANOVA is an extension of the t and the z test and was developed to compare more than two groups.\n",
    "\n",
    "The null hypothesis of ANOVA is that there is no difference between the groups. The alternative hypothesis is that there is a difference between the groups.\n",
    "\n",
    "ANOVA is an omnibus test, meaning it tests the data as a whole. In other words, it does not tell you which specific groups were significantly different from each other; it only tells you that at least two groups were different.\n",
    "\n",
    "## Types of ANOVA\n",
    "\n",
    "There are three main types of ANOVA:\n",
    "1. One-way ANOVA\n",
    "2. Two-way ANOVA\n",
    "3. N-way ANOVA\n",
    "\n",
    "### One-way ANOVA\n",
    "\n",
    "One-way ANOVA is used to compare two or more groups of samples across one continuous independent variable.\n",
    "\n",
    "For example, you could use a one-way ANOVA to compare the height of people living in different cities.\n",
    "\n",
    "### Two-way ANOVA\n",
    "\n",
    "Two-way ANOVA is used to compare two or more groups of samples across two independent variables.\n",
    "\n",
    "For example, you could use a two-way ANOVA to compare the height of people living in different cities and different countries.\n",
    "\n",
    "### N-way ANOVA\n",
    "\n",
    "N-way ANOVA is used to compare two or more groups of samples across N independent variables.\n",
    "\n",
    "\n",
    "## Assumptions of ANOVA\n",
    "\n",
    "ANOVA has three main assumptions:\n",
    "\n",
    "1. The samples are independent.\n",
    "2. The samples are normally distributed.\n",
    "3. The variance of each group is equal.\n",
    "\n",
    "If these assumptions are not met, you may not be able to trust the results of your ANOVA."
   ]
  },
  {
   "cell_type": "markdown",
   "metadata": {},
   "source": [
    "## 1. ONE-WAY ANOVA"
   ]
  },
  {
   "cell_type": "code",
   "execution_count": 2,
   "metadata": {},
   "outputs": [],
   "source": [
    "import scipy.stats as stats"
   ]
  },
  {
   "cell_type": "code",
   "execution_count": 7,
   "metadata": {},
   "outputs": [
    {
     "name": "stdout",
     "output_type": "stream",
     "text": [
      "F-statistic: 15.662162162162158\n",
      "p-value: 0.0004515404760997282\n",
      "Reject null hypothesis: The means are not equal, as the p-value: {p_val} is less than 0.05\n"
     ]
    }
   ],
   "source": [
    "\n",
    "# Sample data: Growth of plants with three types of fertilizers\n",
    "fertilizer1 = [20, 22, 19, 24, 25]\n",
    "fertilizer2 = [28, 30, 27, 26, 29]\n",
    "fertilizer3 = [18, 20, 22, 19, 24]\n",
    "\n",
    "# Perform the one-way ANOVA\n",
    "f_stat, p_val = stats.f_oneway(fertilizer1, fertilizer2, fertilizer3)\n",
    "\n",
    "print(\"F-statistic:\", f_stat)\n",
    "print(\"p-value:\", p_val)\n",
    "\n",
    "# print the results based on if the p-value is less than 0.05\n",
    "\n",
    "if p_val < 0.05:\n",
    "    print(f\"Reject null hypothesis: The means are not equal, as the p-value: {p_val} is less than 0.05\")\n",
    "else:\n",
    "    print(f\"Accept null hypothesis: The means are equal, as the p-value: {p_val} is greater than 0.05\")\n",
    "\n"
   ]
  },
  {
   "cell_type": "markdown",
   "metadata": {},
   "source": [
    "## Using Statsmodels "
   ]
  },
  {
   "cell_type": "markdown",
   "metadata": {},
   "source": [
    "##### performing one way anova"
   ]
  },
  {
   "cell_type": "code",
   "execution_count": 8,
   "metadata": {},
   "outputs": [],
   "source": [
    "!pip install statsmodels --quiet"
   ]
  },
  {
   "cell_type": "code",
   "execution_count": 1,
   "metadata": {},
   "outputs": [],
   "source": [
    "import pandas as pd\n",
    "import statsmodels.api as sm\n",
    "from statsmodels.formula.api import ols "
   ]
  },
  {
   "cell_type": "code",
   "execution_count": 10,
   "metadata": {},
   "outputs": [
    {
     "data": {
      "text/html": [
       "<div>\n",
       "<style scoped>\n",
       "    .dataframe tbody tr th:only-of-type {\n",
       "        vertical-align: middle;\n",
       "    }\n",
       "\n",
       "    .dataframe tbody tr th {\n",
       "        vertical-align: top;\n",
       "    }\n",
       "\n",
       "    .dataframe thead th {\n",
       "        text-align: right;\n",
       "    }\n",
       "</style>\n",
       "<table border=\"1\" class=\"dataframe\">\n",
       "  <thead>\n",
       "    <tr style=\"text-align: right;\">\n",
       "      <th></th>\n",
       "      <th>fertilizer</th>\n",
       "      <th>growth</th>\n",
       "    </tr>\n",
       "  </thead>\n",
       "  <tbody>\n",
       "    <tr>\n",
       "      <th>0</th>\n",
       "      <td>fertilizer1</td>\n",
       "      <td>20</td>\n",
       "    </tr>\n",
       "    <tr>\n",
       "      <th>1</th>\n",
       "      <td>fertilizer1</td>\n",
       "      <td>22</td>\n",
       "    </tr>\n",
       "    <tr>\n",
       "      <th>2</th>\n",
       "      <td>fertilizer1</td>\n",
       "      <td>19</td>\n",
       "    </tr>\n",
       "    <tr>\n",
       "      <th>3</th>\n",
       "      <td>fertilizer1</td>\n",
       "      <td>24</td>\n",
       "    </tr>\n",
       "    <tr>\n",
       "      <th>4</th>\n",
       "      <td>fertilizer1</td>\n",
       "      <td>25</td>\n",
       "    </tr>\n",
       "    <tr>\n",
       "      <th>5</th>\n",
       "      <td>fertilizer2</td>\n",
       "      <td>28</td>\n",
       "    </tr>\n",
       "    <tr>\n",
       "      <th>6</th>\n",
       "      <td>fertilizer2</td>\n",
       "      <td>30</td>\n",
       "    </tr>\n",
       "    <tr>\n",
       "      <th>7</th>\n",
       "      <td>fertilizer2</td>\n",
       "      <td>27</td>\n",
       "    </tr>\n",
       "    <tr>\n",
       "      <th>8</th>\n",
       "      <td>fertilizer2</td>\n",
       "      <td>26</td>\n",
       "    </tr>\n",
       "    <tr>\n",
       "      <th>9</th>\n",
       "      <td>fertilizer2</td>\n",
       "      <td>29</td>\n",
       "    </tr>\n",
       "    <tr>\n",
       "      <th>10</th>\n",
       "      <td>fertilizer3</td>\n",
       "      <td>18</td>\n",
       "    </tr>\n",
       "    <tr>\n",
       "      <th>11</th>\n",
       "      <td>fertilizer3</td>\n",
       "      <td>20</td>\n",
       "    </tr>\n",
       "    <tr>\n",
       "      <th>12</th>\n",
       "      <td>fertilizer3</td>\n",
       "      <td>22</td>\n",
       "    </tr>\n",
       "    <tr>\n",
       "      <th>13</th>\n",
       "      <td>fertilizer3</td>\n",
       "      <td>19</td>\n",
       "    </tr>\n",
       "    <tr>\n",
       "      <th>14</th>\n",
       "      <td>fertilizer3</td>\n",
       "      <td>24</td>\n",
       "    </tr>\n",
       "  </tbody>\n",
       "</table>\n",
       "</div>"
      ],
      "text/plain": [
       "     fertilizer  growth\n",
       "0   fertilizer1      20\n",
       "1   fertilizer1      22\n",
       "2   fertilizer1      19\n",
       "3   fertilizer1      24\n",
       "4   fertilizer1      25\n",
       "5   fertilizer2      28\n",
       "6   fertilizer2      30\n",
       "7   fertilizer2      27\n",
       "8   fertilizer2      26\n",
       "9   fertilizer2      29\n",
       "10  fertilizer3      18\n",
       "11  fertilizer3      20\n",
       "12  fertilizer3      22\n",
       "13  fertilizer3      19\n",
       "14  fertilizer3      24"
      ]
     },
     "execution_count": 10,
     "metadata": {},
     "output_type": "execute_result"
    }
   ],
   "source": [
    "# create a dataframe\n",
    "df=pd.DataFrame({\"fertilizer\":[\"fertilizer1\"]*5 + [\"fertilizer2\"]*5 + [\"fertilizer3\"]*5 ,\n",
    "                 \"growth\": fertilizer1 + fertilizer2 + fertilizer3})\n",
    "df.head(15)"
   ]
  },
  {
   "cell_type": "code",
   "execution_count": 11,
   "metadata": {},
   "outputs": [],
   "source": [
    "# fit the model\n",
    "model=ols(\"growth ~ fertilizer\",data=df).fit()"
   ]
  },
  {
   "cell_type": "code",
   "execution_count": 12,
   "metadata": {},
   "outputs": [
    {
     "name": "stdout",
     "output_type": "stream",
     "text": [
      "                sum_sq    df          F    PR(>F)\n",
      "fertilizer  154.533333   2.0  15.662162  0.000452\n",
      "Residual     59.200000  12.0        NaN       NaN\n"
     ]
    }
   ],
   "source": [
    "# perform anova\n",
    "anova_table=sm.stats.anova_lm(model,typ=2)\n",
    "print(anova_table)"
   ]
  },
  {
   "cell_type": "code",
   "execution_count": 17,
   "metadata": {},
   "outputs": [
    {
     "name": "stdout",
     "output_type": "stream",
     "text": [
      "Reject null hypothesis: The means are not equal, as the p-value: 0.0004515404760997282 is less than 0.05\n"
     ]
    },
    {
     "name": "stderr",
     "output_type": "stream",
     "text": [
      "C:\\Users\\PMLS\\AppData\\Local\\Temp\\ipykernel_6532\\4057180610.py:2: FutureWarning: Series.__getitem__ treating keys as positions is deprecated. In a future version, integer keys will always be treated as labels (consistent with DataFrame behavior). To access a value by position, use `ser.iloc[pos]`\n",
      "  if anova_table[\"PR(>F)\"][0]<0.05:\n"
     ]
    }
   ],
   "source": [
    "# print the results based on if the p-value is less than 0.05\n",
    "if anova_table[\"PR(>F)\"][0]<0.05:\n",
    "    print(f\"Reject null hypothesis: The means are not equal, as the p-value: {p_val} is less than 0.05\")\n",
    "else:\n",
    "    print(f\"fail to reject Reject null hypothesis: The means are equal, as the p-value: {p_val} is greater than 0.05\")"
   ]
  },
  {
   "cell_type": "markdown",
   "metadata": {},
   "source": [
    "## 2.TWO-Way Anova"
   ]
  },
  {
   "cell_type": "code",
   "execution_count": 18,
   "metadata": {},
   "outputs": [
    {
     "data": {
      "text/html": [
       "<div>\n",
       "<style scoped>\n",
       "    .dataframe tbody tr th:only-of-type {\n",
       "        vertical-align: middle;\n",
       "    }\n",
       "\n",
       "    .dataframe tbody tr th {\n",
       "        vertical-align: top;\n",
       "    }\n",
       "\n",
       "    .dataframe thead th {\n",
       "        text-align: right;\n",
       "    }\n",
       "</style>\n",
       "<table border=\"1\" class=\"dataframe\">\n",
       "  <thead>\n",
       "    <tr style=\"text-align: right;\">\n",
       "      <th></th>\n",
       "      <th>growth</th>\n",
       "      <th>fertilizer</th>\n",
       "      <th>sunlight</th>\n",
       "    </tr>\n",
       "  </thead>\n",
       "  <tbody>\n",
       "    <tr>\n",
       "      <th>0</th>\n",
       "      <td>20</td>\n",
       "      <td>F1</td>\n",
       "      <td>High</td>\n",
       "    </tr>\n",
       "    <tr>\n",
       "      <th>1</th>\n",
       "      <td>22</td>\n",
       "      <td>F1</td>\n",
       "      <td>High</td>\n",
       "    </tr>\n",
       "    <tr>\n",
       "      <th>2</th>\n",
       "      <td>19</td>\n",
       "      <td>F1</td>\n",
       "      <td>High</td>\n",
       "    </tr>\n",
       "    <tr>\n",
       "      <th>3</th>\n",
       "      <td>24</td>\n",
       "      <td>F1</td>\n",
       "      <td>High</td>\n",
       "    </tr>\n",
       "    <tr>\n",
       "      <th>4</th>\n",
       "      <td>25</td>\n",
       "      <td>F1</td>\n",
       "      <td>High</td>\n",
       "    </tr>\n",
       "  </tbody>\n",
       "</table>\n",
       "</div>"
      ],
      "text/plain": [
       "   growth fertilizer sunlight\n",
       "0      20         F1     High\n",
       "1      22         F1     High\n",
       "2      19         F1     High\n",
       "3      24         F1     High\n",
       "4      25         F1     High"
      ]
     },
     "execution_count": 18,
     "metadata": {},
     "output_type": "execute_result"
    }
   ],
   "source": [
    "df=pd.DataFrame({\n",
    "    \"growth\":    [20, 22, 19, 24, 25, 28, 30, 27, 26, 29, 18, 20, 22, 19, 24,\n",
    "                 21, 23, 20, 25, 26, 29, 31, 28, 27, 30, 19, 21, 23, 20, 25],\n",
    "   \"fertilizer\": [\"F1\", \"F1\", \"F1\", \"F1\", \"F1\", \"F2\", \"F2\", \"F2\", \"F2\", \"F2\", \n",
    "                   \"F3\", \"F3\", \"F3\", \"F3\", \"F3\", \"F1\", \"F1\", \"F1\", \"F1\", \"F1\", \n",
    "                   \"F2\", \"F2\", \"F2\", \"F2\", \"F2\", \"F3\", \"F3\", \"F3\", \"F3\", \"F3\"],\n",
    "    \"sunlight\":  [\"High\", \"High\", \"High\", \"High\", \"High\", \"High\", \"High\", \"High\", \"High\", \"High\", \n",
    "                 \"High\", \"High\", \"High\", \"High\", \"High\", \"Low\", \"Low\", \"Low\", \"Low\", \"Low\", \n",
    "                 \"Low\", \"Low\", \"Low\", \"Low\", \"Low\", \"Low\", \"Low\", \"Low\", \"Low\", \"Low\"]\n",
    "})\n",
    "df.head()"
   ]
  },
  {
   "cell_type": "code",
   "execution_count": 23,
   "metadata": {},
   "outputs": [
    {
     "name": "stdout",
     "output_type": "stream",
     "text": [
      "                                 sum_sq    df             F        PR(>F)\n",
      "C(fertilizer)              3.090667e+02   2.0  3.132432e+01  2.038888e-07\n",
      "C(sunlight)                7.500000e+00   1.0  1.520270e+00  2.295198e-01\n",
      "C(fertilizer):C(sunlight)  6.441240e-28   2.0  6.528284e-29  1.000000e+00\n",
      "Residual                   1.184000e+02  24.0           NaN           NaN\n",
      "Reject null hypothesis, means are not equal as p value:0.0004515404760997282 is less then 0.05\n"
     ]
    },
    {
     "name": "stderr",
     "output_type": "stream",
     "text": [
      "C:\\Users\\PMLS\\AppData\\Local\\Temp\\ipykernel_6532\\2408166824.py:5: FutureWarning: Series.__getitem__ treating keys as positions is deprecated. In a future version, integer keys will always be treated as labels (consistent with DataFrame behavior). To access a value by position, use `ser.iloc[pos]`\n",
      "  if anova_table[\"PR(>F)\"][0] <0.05:\n"
     ]
    }
   ],
   "source": [
    "# perform two-way anova\n",
    "model=ols(\"growth ~ C(fertilizer) + C(sunlight) + C(fertilizer):C(sunlight)\",data=df).fit()\n",
    "anova_table=sm.stats.anova_lm(model,typ=2)\n",
    "print(anova_table)\n",
    "if anova_table[\"PR(>F)\"][0] <0.05:\n",
    "    print(f\"Reject null hypothesis, means are not equal as p value:{p_val} is less then 0.05\")\n",
    "else:\n",
    "    print(f\"fail to null hypothesis, means are equal as p value:{p_val} is greater then 0.05\")"
   ]
  },
  {
   "cell_type": "markdown",
   "metadata": {},
   "source": [
    "## N-Way Anova\n",
    "`N-way ANOVA`, also known as `factorial ANOVA`, is used when you have more than two independent variables. It allows you to analyze the effects of each factor on the dependent variable and the interaction effects between factors.\n",
    "\n",
    "## Example: Three-Way ANOVA\n",
    "Suppose we have an experimental data set with three factors:\n",
    "\n",
    "1. Fertilizer Type (3 levels: F1, F2, F3)\n",
    "2. Sunlight Exposure (2 levels: High, Low)\n",
    "3. Watering Frequency (2 levels: Regular, Sparse)\n",
    "\n",
    "We want to study the impact of these factors and their interactions on plant growth."
   ]
  },
  {
   "cell_type": "code",
   "execution_count": 27,
   "metadata": {},
   "outputs": [
    {
     "name": "stdout",
     "output_type": "stream",
     "text": [
      "                                             sum_sq  ...        PR(>F)\n",
      "C(Fertilizer)                          4.680444e+02  ...  2.050614e-12\n",
      "C(Sunlight)                            6.024959e-17  ...  1.000000e+00\n",
      "C(Watering)                            2.864840e-12  ...  9.999993e-01\n",
      "C(Fertilizer):C(Sunlight)              2.493785e-13  ...  1.000000e+00\n",
      "C(Fertilizer):C(Watering)              5.461610e-13  ...  1.000000e+00\n",
      "C(Sunlight):Watering                   2.405455e+01  ...  9.211091e-02\n",
      "C(Fertilizer):C(Sunlight):C(Watering)  2.163333e+01  ...  1.654275e-01\n",
      "Residual                               1.573000e+02  ...           NaN\n",
      "\n",
      "[8 rows x 4 columns]\n",
      "Reject null hypothesis: The means are not equal, as the p-value: 0.0004515404760997282 is less than 0.05\n"
     ]
    },
    {
     "name": "stderr",
     "output_type": "stream",
     "text": [
      "c:\\Users\\PMLS\\miniconda3\\envs\\python_eda\\Lib\\site-packages\\statsmodels\\base\\model.py:1896: ValueWarning: covariance of constraints does not have full rank. The number of constraints is 2, but rank is 1\n",
      "  warnings.warn('covariance of constraints does not have full '\n",
      "C:\\Users\\PMLS\\AppData\\Local\\Temp\\ipykernel_6532\\3549065579.py:31: FutureWarning: Series.__getitem__ treating keys as positions is deprecated. In a future version, integer keys will always be treated as labels (consistent with DataFrame behavior). To access a value by position, use `ser.iloc[pos]`\n",
      "  if anova_table[\"PR(>F)\"][0] <0.05:\n"
     ]
    }
   ],
   "source": [
    "df=pd.DataFrame({\n",
    "     \"Growth\": [20, 22, 19, 24, 25, 28, 30, 27, 26, 29, 18, 20, 22, 19, 24,\n",
    "               21, 23, 20, 25, 26, 29, 31, 28, 27, 30, 19, 21, 23, 20, 25,\n",
    "               20, 22, 21, 23, 24, 26, 28, 25, 27, 29, 17, 19, 21, 18, 20],\n",
    "    \"Fertilizer\": [\"F1\", \"F1\", \"F1\", \"F1\", \"F1\", \"F2\", \"F2\", \"F2\", \"F2\", \"F2\", \n",
    "                   \"F3\", \"F3\", \"F3\", \"F3\", \"F3\", \"F1\", \"F1\", \"F1\", \"F1\", \"F1\", \n",
    "                   \"F2\", \"F2\", \"F2\", \"F2\", \"F2\", \"F3\", \"F3\", \"F3\", \"F3\", \"F3\",\n",
    "                   \"F1\", \"F1\", \"F1\", \"F1\", \"F1\", \"F2\", \"F2\", \"F2\", \"F2\", \"F2\", \n",
    "                   \"F3\", \"F3\", \"F3\", \"F3\", \"F3\"],\n",
    "    \"Sunlight\": [\"High\", \"High\", \"High\", \"High\", \"High\", \"High\", \"High\", \"High\", \"High\", \"High\", \n",
    "                 \"High\", \"High\", \"High\", \"High\", \"High\", \"Low\", \"Low\", \"Low\", \"Low\", \"Low\", \n",
    "                 \"Low\", \"Low\", \"Low\", \"Low\", \"Low\", \"Low\", \"Low\", \"Low\", \"Low\", \"Low\",\n",
    "                 \"High\", \"High\", \"High\", \"High\", \"High\", \"High\", \"High\", \"High\", \"High\", \"High\", \n",
    "                 \"High\", \"High\", \"High\", \"High\", \"High\"],\n",
    "    \"Watering\": [\"Regular\", \"Regular\", \"Regular\", \"Regular\", \"Regular\", \n",
    "                 \"Regular\", \"Regular\", \"Regular\", \"Regular\", \"Regular\",\n",
    "                 \"Regular\", \"Regular\", \"Regular\", \"Regular\", \"Regular\",\n",
    "                 \"Sparse\", \"Sparse\", \"Sparse\", \"Sparse\", \"Sparse\", \n",
    "                 \"Sparse\", \"Sparse\", \"Sparse\", \"Sparse\", \"Sparse\",\n",
    "                 \"Sparse\", \"Sparse\", \"Sparse\", \"Sparse\", \"Sparse\",\n",
    "                 \"Regular\", \"Regular\", \"Regular\", \"Regular\", \"Regular\", \n",
    "                 \"Regular\", \"Regular\", \"Regular\", \"Regular\", \"Regular\",\n",
    "                 \"Regular\", \"Regular\", \"Regular\", \"Regular\", \"Regular\"]\n",
    "})\n",
    "# fit the model\n",
    "model=ols(\"Growth ~ C(Fertilizer) +C(Sunlight) +C(Watering) +C(Fertilizer):C(Sunlight)+C(Fertilizer):C(Watering)+ C(Sunlight):(Watering) +C(Fertilizer):C(Sunlight):C(Watering)\",data=df).fit()\n",
    "# perform three-way Anova\n",
    "anova_table=sm.stats.anova_lm(model,typ=2)\n",
    "print(anova_table)\n",
    "\n",
    "if anova_table[\"PR(>F)\"][0] <0.05:\n",
    "    print(f\"Reject null hypothesis: The means are not equal, as the p-value: {p_val} is less than 0.05\")\n",
    "else:\n",
    "    print(f\"Fail to reject null hypothesis: The means are equal, as the p-value: {p_val} is greater than 0.05\")"
   ]
  },
  {
   "cell_type": "markdown",
   "metadata": {},
   "source": [
    "## Post-hoc Tests for One-Way ANOVA"
   ]
  },
  {
   "cell_type": "code",
   "execution_count": 3,
   "metadata": {},
   "outputs": [
    {
     "name": "stdout",
     "output_type": "stream",
     "text": [
      " Multiple Comparison of Means - Tukey HSD, FWER=0.05 \n",
      "=====================================================\n",
      "group1 group2 meandiff p-adj   lower    upper  reject\n",
      "-----------------------------------------------------\n",
      "    F1     F2      6.0 0.0029   2.2523  9.7477   True\n",
      "    F1     F3     -1.4 0.5928  -5.1477  2.3477  False\n",
      "    F2     F3     -7.4 0.0005 -11.1477 -3.6523   True\n",
      "-----------------------------------------------------\n"
     ]
    }
   ],
   "source": [
    "\n",
    "# Sample data: Growth of plants with three types of fertilizers\n",
    "fertilizer1 = [20, 22, 19, 24, 25]\n",
    "fertilizer2 = [28, 30, 27, 26, 29]\n",
    "fertilizer3 = [18, 20, 22, 19, 24]\n",
    "\n",
    "from statsmodels.stats.multicomp import pairwise_tukeyhsd\n",
    "import numpy as np\n",
    "data={\n",
    "    \"Growth\" : np.concatenate([fertilizer1,fertilizer2,fertilizer3]),\n",
    "    \"fertilizer\":[\"F1\"]*len(fertilizer1)+[\"F2\"]*len(fertilizer2)+[\"F3\"]*len(fertilizer3)\n",
    "}\n",
    "df=pd.DataFrame(data)\n",
    "tukey=pairwise_tukeyhsd(endog=df[\"Growth\"],groups=df[\"fertilizer\"],alpha=0.05)\n",
    "print(tukey)"
   ]
  },
  {
   "cell_type": "markdown",
   "metadata": {},
   "source": [
    "## Post-hoc Tests for Two-Way ANOVA"
   ]
  },
  {
   "cell_type": "code",
   "execution_count": 5,
   "metadata": {},
   "outputs": [
    {
     "name": "stdout",
     "output_type": "stream",
     "text": [
      " Multiple Comparison of Means - Tukey HSD, FWER=0.05 \n",
      "=====================================================\n",
      "group1 group2 meandiff p-adj   lower    upper  reject\n",
      "-----------------------------------------------------\n",
      "F1High  F1Low      1.0 0.9786  -3.3434  5.3434  False\n",
      "F1High F2High      6.0 0.0032   1.6566 10.3434   True\n",
      "F1High  F2Low      7.0 0.0006   2.6566 11.3434   True\n",
      "F1High F3High     -1.4 0.9145  -5.7434  2.9434  False\n",
      "F1High  F3Low     -0.4 0.9997  -4.7434  3.9434  False\n",
      " F1Low F2High      5.0 0.0176   0.6566  9.3434   True\n",
      " F1Low  F2Low      6.0 0.0032   1.6566 10.3434   True\n",
      " F1Low F3High     -2.4 0.5396  -6.7434  1.9434  False\n",
      " F1Low  F3Low     -1.4 0.9145  -5.7434  2.9434  False\n",
      "F2High  F2Low      1.0 0.9786  -3.3434  5.3434  False\n",
      "F2High F3High     -7.4 0.0003 -11.7434 -3.0566   True\n",
      "F2High  F3Low     -6.4 0.0016 -10.7434 -2.0566   True\n",
      " F2Low F3High     -8.4    0.0 -12.7434 -4.0566   True\n",
      " F2Low  F3Low     -7.4 0.0003 -11.7434 -3.0566   True\n",
      "F3High  F3Low      1.0 0.9786  -3.3434  5.3434  False\n",
      "-----------------------------------------------------\n"
     ]
    }
   ],
   "source": [
    "from statsmodels.stats.multicomp import pairwise_tukeyhsd\n",
    "import pandas as pd\n",
    "import statsmodels.api as sm\n",
    "from statsmodels.formula.api import ols\n",
    "\n",
    "# Sample data\n",
    "data = pd.DataFrame({\n",
    "    \"Growth\": [20, 22, 19, 24, 25, 28, 30, 27, 26, 29, 18, 20, 22, 19, 24,\n",
    "               21, 23, 20, 25, 26, 29, 31, 28, 27, 30, 19, 21, 23, 20, 25],\n",
    "    \"Fertilizer\": [\"F1\", \"F1\", \"F1\", \"F1\", \"F1\", \"F2\", \"F2\", \"F2\", \"F2\", \"F2\", \n",
    "                   \"F3\", \"F3\", \"F3\", \"F3\", \"F3\", \"F1\", \"F1\", \"F1\", \"F1\", \"F1\", \n",
    "                   \"F2\", \"F2\", \"F2\", \"F2\", \"F2\", \"F3\", \"F3\", \"F3\", \"F3\", \"F3\"],\n",
    "    \"Sunlight\": [\"High\", \"High\", \"High\", \"High\", \"High\", \"High\", \"High\", \"High\", \"High\", \"High\", \n",
    "                 \"High\", \"High\", \"High\", \"High\", \"High\", \"Low\", \"Low\", \"Low\", \"Low\", \"Low\", \n",
    "                 \"Low\", \"Low\", \"Low\", \"Low\", \"Low\", \"Low\", \"Low\", \"Low\", \"Low\", \"Low\"]\n",
    "})\n",
    "\n",
    "tukey=pairwise_tukeyhsd(data[\"Growth\"],data[\"Fertilizer\"]+data[\"Sunlight\"],alpha=0.05)\n",
    "print(tukey)"
   ]
  },
  {
   "cell_type": "markdown",
   "metadata": {},
   "source": [
    "## Post-hoc Tests for N-Way ANOVA (Factorial ANOVA)"
   ]
  },
  {
   "cell_type": "code",
   "execution_count": 7,
   "metadata": {},
   "outputs": [
    {
     "name": "stdout",
     "output_type": "stream",
     "text": [
      "        Multiple Comparison of Means - Tukey HSD, FWER=0.05        \n",
      "===================================================================\n",
      "    group1        group2    meandiff p-adj   lower    upper  reject\n",
      "-------------------------------------------------------------------\n",
      "F1HighRegular   F1LowSparse      1.0 0.9419  -2.2956  4.2956  False\n",
      "F1HighRegular F2HighRegular      5.5    0.0   2.8092  8.1908   True\n",
      "F1HighRegular   F2LowSparse      7.0    0.0   3.7044 10.2956   True\n",
      "F1HighRegular F3HighRegular     -2.2 0.1647  -4.8908  0.4908  False\n",
      "F1HighRegular   F3LowSparse     -0.4 0.9991  -3.6956  2.8956  False\n",
      "  F1LowSparse F2HighRegular      4.5 0.0027   1.2044  7.7956   True\n",
      "  F1LowSparse   F2LowSparse      6.0 0.0004   2.1946  9.8054   True\n",
      "  F1LowSparse F3HighRegular     -3.2 0.0613  -6.4956  0.0956  False\n",
      "  F1LowSparse   F3LowSparse     -1.4 0.8775  -5.2054  2.4054  False\n",
      "F2HighRegular   F2LowSparse      1.5 0.7478  -1.7956  4.7956  False\n",
      "F2HighRegular F3HighRegular     -7.7    0.0 -10.3908 -5.0092   True\n",
      "F2HighRegular   F3LowSparse     -5.9 0.0001  -9.1956 -2.6044   True\n",
      "  F2LowSparse F3HighRegular     -9.2    0.0 -12.4956 -5.9044   True\n",
      "  F2LowSparse   F3LowSparse     -7.4    0.0 -11.2054 -3.5946   True\n",
      "F3HighRegular   F3LowSparse      1.8 0.5804  -1.4956  5.0956  False\n",
      "-------------------------------------------------------------------\n"
     ]
    }
   ],
   "source": [
    "from statsmodels.stats.multicomp import pairwise_tukeyhsd\n",
    "# Sample data\n",
    "data = pd.DataFrame({\n",
    "    \"Growth\": [20, 22, 19, 24, 25, 28, 30, 27, 26, 29, 18, 20, 22, 19, 24,\n",
    "               21, 23, 20, 25, 26, 29, 31, 28, 27, 30, 19, 21, 23, 20, 25,\n",
    "               20, 22, 21, 23, 24, 26, 28, 25, 27, 29, 17, 19, 21, 18, 20],\n",
    "    \"Fertilizer\": [\"F1\", \"F1\", \"F1\", \"F1\", \"F1\", \"F2\", \"F2\", \"F2\", \"F2\", \"F2\", \n",
    "                   \"F3\", \"F3\", \"F3\", \"F3\", \"F3\", \"F1\", \"F1\", \"F1\", \"F1\", \"F1\", \n",
    "                   \"F2\", \"F2\", \"F2\", \"F2\", \"F2\", \"F3\", \"F3\", \"F3\", \"F3\", \"F3\",\n",
    "                   \"F1\", \"F1\", \"F1\", \"F1\", \"F1\", \"F2\", \"F2\", \"F2\", \"F2\", \"F2\", \n",
    "                   \"F3\", \"F3\", \"F3\", \"F3\", \"F3\"],\n",
    "    \"Sunlight\": [\"High\", \"High\", \"High\", \"High\", \"High\", \"High\", \"High\", \"High\", \"High\", \"High\", \n",
    "                 \"High\", \"High\", \"High\", \"High\", \"High\", \"Low\", \"Low\", \"Low\", \"Low\", \"Low\", \n",
    "                 \"Low\", \"Low\", \"Low\", \"Low\", \"Low\", \"Low\", \"Low\", \"Low\", \"Low\", \"Low\",\n",
    "                 \"High\", \"High\", \"High\", \"High\", \"High\", \"High\", \"High\", \"High\", \"High\", \"High\", \n",
    "                 \"High\", \"High\", \"High\", \"High\", \"High\"],\n",
    "    \"Watering\": [\"Regular\", \"Regular\", \"Regular\", \"Regular\", \"Regular\", \n",
    "                 \"Regular\", \"Regular\", \"Regular\", \"Regular\", \"Regular\",\n",
    "                 \"Regular\", \"Regular\", \"Regular\", \"Regular\", \"Regular\",\n",
    "                 \"Sparse\", \"Sparse\", \"Sparse\", \"Sparse\", \"Sparse\", \n",
    "                 \"Sparse\", \"Sparse\", \"Sparse\", \"Sparse\", \"Sparse\",\n",
    "                 \"Sparse\", \"Sparse\", \"Sparse\", \"Sparse\", \"Sparse\",\n",
    "                 \"Regular\", \"Regular\", \"Regular\", \"Regular\", \"Regular\", \n",
    "                 \"Regular\", \"Regular\", \"Regular\", \"Regular\", \"Regular\",\n",
    "                 \"Regular\", \"Regular\", \"Regular\", \"Regular\", \"Regular\"]\n",
    "})\n",
    "tukey=pairwise_tukeyhsd(data[\"Growth\"],data[\"Fertilizer\"]+data[\"Sunlight\"]+data[\"Watering\"],alpha=0.05)\n",
    "print(tukey)"
   ]
  },
  {
   "cell_type": "code",
   "execution_count": null,
   "metadata": {},
   "outputs": [],
   "source": []
  },
  {
   "cell_type": "code",
   "execution_count": null,
   "metadata": {},
   "outputs": [],
   "source": []
  }
 ],
 "metadata": {
  "kernelspec": {
   "display_name": "python_eda",
   "language": "python",
   "name": "python3"
  },
  "language_info": {
   "codemirror_mode": {
    "name": "ipython",
    "version": 3
   },
   "file_extension": ".py",
   "mimetype": "text/x-python",
   "name": "python",
   "nbconvert_exporter": "python",
   "pygments_lexer": "ipython3",
   "version": "3.12.1"
  }
 },
 "nbformat": 4,
 "nbformat_minor": 2
}
